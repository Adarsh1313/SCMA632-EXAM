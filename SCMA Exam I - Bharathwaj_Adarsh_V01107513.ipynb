{
 "cells": [
  {
   "cell_type": "code",
   "execution_count": 1,
   "id": "4429f92c-2613-46c6-9284-aab704ff0520",
   "metadata": {},
   "outputs": [],
   "source": [
    "import os\n",
    "import pandas as pd\n",
    "import numpy as np\n",
    "import matplotlib.pyplot as plt\n",
    "import seaborn as sns\n",
    "import scipy.stats as st"
   ]
  },
  {
   "cell_type": "code",
   "execution_count": 2,
   "id": "a47688ba-59f1-4a02-8df6-db4817364c35",
   "metadata": {},
   "outputs": [],
   "source": [
    "ipl_bbb = pd.read_csv('IPL_ball_by_ball_updated till 2024.csv',low_memory=False)"
   ]
  },
  {
   "cell_type": "code",
   "execution_count": 3,
   "id": "fc0742fc-4a00-4a4f-a653-2ecd48f0a800",
   "metadata": {},
   "outputs": [
    {
     "data": {
      "text/plain": [
       "Index(['Match id', 'Date', 'Season', 'Batting team', 'Bowling team',\n",
       "       'Innings No', 'Ball No', 'Bowler', 'Striker', 'Non Striker',\n",
       "       'runs_scored', 'extras', 'type of extras', 'score', 'score/wicket',\n",
       "       'wicket_confirmation', 'wicket_type', 'fielders_involved',\n",
       "       'Player Out'],\n",
       "      dtype='object')"
      ]
     },
     "execution_count": 3,
     "metadata": {},
     "output_type": "execute_result"
    }
   ],
   "source": [
    "ipl_bbb.columns"
   ]
  },
  {
   "cell_type": "code",
   "execution_count": 4,
   "id": "30dc6c4b-fdfa-4dd4-9159-59c3d00d876a",
   "metadata": {},
   "outputs": [
    {
     "data": {
      "text/html": [
       "<div>\n",
       "<style scoped>\n",
       "    .dataframe tbody tr th:only-of-type {\n",
       "        vertical-align: middle;\n",
       "    }\n",
       "\n",
       "    .dataframe tbody tr th {\n",
       "        vertical-align: top;\n",
       "    }\n",
       "\n",
       "    .dataframe thead th {\n",
       "        text-align: right;\n",
       "    }\n",
       "</style>\n",
       "<table border=\"1\" class=\"dataframe\">\n",
       "  <thead>\n",
       "    <tr style=\"text-align: right;\">\n",
       "      <th></th>\n",
       "      <th>Match id</th>\n",
       "      <th>year</th>\n",
       "      <th>runs_scored</th>\n",
       "      <th>wicket_confirmation</th>\n",
       "      <th>Bowler</th>\n",
       "      <th>Striker</th>\n",
       "    </tr>\n",
       "  </thead>\n",
       "  <tbody>\n",
       "    <tr>\n",
       "      <th>0</th>\n",
       "      <td>335982</td>\n",
       "      <td>2008</td>\n",
       "      <td>0</td>\n",
       "      <td>0</td>\n",
       "      <td>P Kumar</td>\n",
       "      <td>SC Ganguly</td>\n",
       "    </tr>\n",
       "    <tr>\n",
       "      <th>1</th>\n",
       "      <td>335982</td>\n",
       "      <td>2008</td>\n",
       "      <td>0</td>\n",
       "      <td>0</td>\n",
       "      <td>P Kumar</td>\n",
       "      <td>BB McCullum</td>\n",
       "    </tr>\n",
       "    <tr>\n",
       "      <th>2</th>\n",
       "      <td>335982</td>\n",
       "      <td>2008</td>\n",
       "      <td>0</td>\n",
       "      <td>0</td>\n",
       "      <td>P Kumar</td>\n",
       "      <td>BB McCullum</td>\n",
       "    </tr>\n",
       "    <tr>\n",
       "      <th>3</th>\n",
       "      <td>335982</td>\n",
       "      <td>2008</td>\n",
       "      <td>0</td>\n",
       "      <td>0</td>\n",
       "      <td>P Kumar</td>\n",
       "      <td>BB McCullum</td>\n",
       "    </tr>\n",
       "    <tr>\n",
       "      <th>4</th>\n",
       "      <td>335982</td>\n",
       "      <td>2008</td>\n",
       "      <td>0</td>\n",
       "      <td>0</td>\n",
       "      <td>P Kumar</td>\n",
       "      <td>BB McCullum</td>\n",
       "    </tr>\n",
       "  </tbody>\n",
       "</table>\n",
       "</div>"
      ],
      "text/plain": [
       "   Match id  year  runs_scored  wicket_confirmation   Bowler      Striker\n",
       "0    335982  2008            0                    0  P Kumar   SC Ganguly\n",
       "1    335982  2008            0                    0  P Kumar  BB McCullum\n",
       "2    335982  2008            0                    0  P Kumar  BB McCullum\n",
       "3    335982  2008            0                    0  P Kumar  BB McCullum\n",
       "4    335982  2008            0                    0  P Kumar  BB McCullum"
      ]
     },
     "execution_count": 4,
     "metadata": {},
     "output_type": "execute_result"
    }
   ],
   "source": [
    "ipl_year_id = pd.DataFrame(columns=[\"id\", \"year\"])\n",
    "ipl_year_id[\"id\"] = ipl_bbb[\"Match id\"]\n",
    "ipl_year_id[\"year\"] = pd.to_datetime(ipl_bbb[\"Date\"], dayfirst=True).dt.year\n",
    "\n",
    "\n",
    "#create a copy of ipl_bbbc dataframe\n",
    "ipl_bbbc= ipl_bbb.copy()\n",
    "\n",
    "\n",
    "ipl_bbbc['year'] = pd.to_datetime(ipl_bbb[\"Date\"], dayfirst=True).dt.year\n",
    "\n",
    "\n",
    "ipl_bbbc[[\"Match id\", \"year\", \"runs_scored\",\"wicket_confirmation\",\"Bowler\",'Striker']].head()"
   ]
  },
  {
   "cell_type": "code",
   "execution_count": 5,
   "id": "f8a30f7a-b82a-481d-a8ec-3f390e158cfd",
   "metadata": {},
   "outputs": [
    {
     "name": "stdout",
     "output_type": "stream",
     "text": [
      "{2014: 19, 2015: 14, 2016: 13, 2017: 15, 2018: 3, 2019: 12, 2020: 11, 2021: 16, 2022: 6, 2023: 11, 2024: 9}\n"
     ]
    }
   ],
   "source": [
    "# Filter the data for the bowler named 'AR Patel'\n",
    "ax_patel_data = ipl_bbbc[ipl_bbbc[\"Bowler\"] == \"AR Patel\"]\n",
    "\n",
    "# Group by year and sum the wickets\n",
    "total_wicket_for_player = ax_patel_data.groupby('year')[\"wicket_confirmation\"].sum()\n",
    "total_wicket_for_player\n",
    "\n",
    "# Convert to dictionary\n",
    "total_wicket_for_player_dict = total_wicket_for_player.to_dict()\n",
    "print(total_wicket_for_player_dict)"
   ]
  },
  {
   "cell_type": "code",
   "execution_count": 6,
   "id": "e54e232a-f5e4-4d22-888d-85a03b65b1d8",
   "metadata": {},
   "outputs": [],
   "source": [
    "# Convert dictionary to pandas Series for fitting distribution\n",
    "ab = pd.Series(total_wicket_for_player_dict)"
   ]
  },
  {
   "cell_type": "code",
   "execution_count": 7,
   "id": "23912ea3-84ad-4c7f-ad6c-aa25f65d648a",
   "metadata": {},
   "outputs": [
    {
     "name": "stdout",
     "output_type": "stream",
     "text": [
      "p value for alpha = 0.7689921190849475\n",
      "p value for beta = 0.3773013507770824\n",
      "p value for betaprime = 0.8572934163265811\n",
      "p value for burr12 = 0.9803988104338484\n",
      "p value for crystalball = 0.8975015015759963\n",
      "p value for dgamma = 0.8790016021005678\n",
      "p value for dweibull = 0.8820049628137945\n",
      "p value for erlang = 0.8548709668732069\n",
      "p value for exponnorm = 0.8975028343761439\n",
      "p value for f = 0.8948291453719155\n",
      "p value for fatiguelife = 0.8871074086793793\n",
      "p value for gamma = 0.8370833335034745\n",
      "p value for gengamma = 0.841800600694424\n",
      "p value for gumbel_l = 0.9980554225481311\n",
      "p value for johnsonsb = 0.8869263642566767\n",
      "p value for kappa4 = 0.39609266250994624\n",
      "p value for lognorm = 0.005223244613261624\n",
      "p value for nct = 0.8914546072687096\n",
      "p value for norm = 0.8975014221709687\n",
      "p value for norminvgauss = 0.9853997444817613\n",
      "p value for powernorm = 0.9884662258014886\n",
      "p value for rice = 0.8530212643851435\n",
      "p value for recipinvgauss = 0.8655577282352929\n",
      "p value for t = 0.8974954954342778\n",
      "p value for trapz = 0.1419704100543534\n",
      "p value for truncnorm = 0.8975000666315613\n",
      "\n",
      "Best fitting distribution: gumbel_l\n",
      "Best p value: 0.9980554225481311\n",
      "Parameters for the best fit: (13.804635631105308, 3.7883690789301996)\n"
     ]
    }
   ],
   "source": [
    "def get_best_distribution(data):\n",
    "    dist_names = ['alpha', 'beta', 'betaprime', 'burr12', 'crystalball',\n",
    "                  'dgamma', 'dweibull', 'erlang', 'exponnorm', 'f', 'fatiguelife',\n",
    "                  'gamma', 'gengamma', 'gumbel_l', 'johnsonsb', 'kappa4',\n",
    "                  'lognorm', 'nct', 'norm', 'norminvgauss', 'powernorm', 'rice',\n",
    "                  'recipinvgauss', 't', 'trapz', 'truncnorm']\n",
    "    dist_results = []\n",
    "    params = {}\n",
    "    \n",
    "    # Iterate over each distribution and fit to data\n",
    "    for dist_name in dist_names:\n",
    "        dist = getattr(st, dist_name)\n",
    "        param = dist.fit(data)\n",
    "        params[dist_name] = param\n",
    "        \n",
    "        # Applying the Kolmogorov-Smirnov test\n",
    "        D, p = st.kstest(data, dist_name, args=param)\n",
    "        print(\"p value for \" + dist_name + \" = \" + str(p))\n",
    "        dist_results.append((dist_name, p))\n",
    "    \n",
    "    # Select the best fitted distribution based on p-value\n",
    "    best_dist, best_p = max(dist_results, key=lambda item: item[1])\n",
    "    \n",
    "    # Print results\n",
    "    print(\"\\nBest fitting distribution: \" + str(best_dist))\n",
    "    print(\"Best p value: \" + str(best_p))\n",
    "    print(\"Parameters for the best fit: \" + str(params[best_dist]))\n",
    "    \n",
    "    return best_dist, best_p, params[best_dist]\n",
    "\n",
    "# Call the function with your data\n",
    "import warnings\n",
    "warnings.filterwarnings('ignore')\n",
    "best_dist_name, best_p_val, best_params = get_best_distribution(ab)"
   ]
  },
  {
   "cell_type": "markdown",
   "id": "73167d16-25af-48ed-97b1-09a707f7325d",
   "metadata": {
    "jp-MarkdownHeadingCollapsed": true
   },
   "source": [
    "-----------------------------------------------------------------------------------------------------------------------------------------------\n",
    "# **Interpretation of how well the fitted distribution represents cricket player performance metrics:**\n",
    "\n",
    "**Interpretation:**\n",
    "Based on the p-values provided and the distribution fitting process, the Gumbel Left distribution (gumbel_l) was found to be the best fit for the total wickets taken by the bowler AR Patel across the given years.\n",
    "\n",
    "- Best p-value: 0.9980554225481311\n",
    "- Parameters: (13.804635631105308, 3.7883690789301996), which are location and scale respectively\n",
    "- The location parameter (μ) indicates the central tendency, around which the data is distributed. The scale parameter (β) measures the spread of the distribution.\n",
    "\n",
    "The Gumbel Left distribution had the highest p-value among all tested distributions, indicating that it is the best fit for the given data on the number of wickets taken by AR Patel over the years.\n",
    "\n",
    "The Gumbel Left distribution is typically used to model the minimum values in a dataset, often applied in extreme value theory. In this context, it suggests that the distribution of the number of wickets taken by AR Patel each year follows a pattern that can be described by the Gumbel Left distribution.\n",
    "\n",
    "This fit suggests that there is a predictable pattern in the wicket-taking performance of AR Patel, with the distribution parameters providing a detailed description of this pattern.\n",
    "\n",
    "-----------------------------------------------------------------------------------------------------------------------------------------------"
   ]
  },
  {
   "cell_type": "markdown",
   "id": "b352f7dd-1f5b-4460-b888-e158e9b284a5",
   "metadata": {
    "jp-MarkdownHeadingCollapsed": true
   },
   "source": [
    "-----------------------------------------------------------------------------------------------------------------------------------------------\n",
    "# **Limitations, Assumptions and Adjustments of the Gumbel Distribution:**\n",
    "**Assumptions:**\n",
    "\n",
    "1. The Gumbel distribution assumes that the distribution of data follows an extreme value distribution.\n",
    "2. It is often used to model the maximum (or minimum with adjustments) of a set of observations.\n",
    "\n",
    "**Limitations:**\n",
    "\n",
    "1. The Gumbel distribution might not capture complex shapes in data that are not extreme value distributed.\n",
    "2. It assumes a specific form of tail behavior that might not always be present in real-world data.\n",
    "\n",
    "In context of cricket:\n",
    "- This doesn't measure the overall performance of the player, except for one aspect, i.e wicket taking ability\n",
    "- Other variables such as runs scored, catches taken and other aspects of the game should also be considered instead of one aspect.\n",
    "\n",
    "**Adjustments:**\n",
    "1. Data Transformation - Box-Cox Transformation: This can stabilize variance and make the data more normally distributed, potentially improving the fit of parametric distributions.\n",
    "2. Mixture Models: Use a combination of multiple distributions to model complex data structures, especially if the data shows multimodal characteristics.\n",
    "3. Robust Fitting Methods: Use robust fitting techniques that minimize the influence of outliers.\n",
    "\n",
    "In context of cricket:\n",
    "- We can create a fantasy points system where we allot the points to get an overview of the overall performance of the player\n",
    "- We can also take into account multiple variables as mentioned before\n",
    "- Other influencing factors such as experience, number of matches played etc. aren't taken into account which can be calculated from the dataset\n",
    "\n",
    "-----------------------------------------------------------------------------------------------------------------------------------------------\n"
   ]
  }
 ],
 "metadata": {
  "kernelspec": {
   "display_name": "Python 3 (ipykernel)",
   "language": "python",
   "name": "python3"
  },
  "language_info": {
   "codemirror_mode": {
    "name": "ipython",
    "version": 3
   },
   "file_extension": ".py",
   "mimetype": "text/x-python",
   "name": "python",
   "nbconvert_exporter": "python",
   "pygments_lexer": "ipython3",
   "version": "3.11.5"
  }
 },
 "nbformat": 4,
 "nbformat_minor": 5
}
